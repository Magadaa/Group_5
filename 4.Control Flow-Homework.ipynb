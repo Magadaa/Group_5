{
 "cells": [
  {
   "attachments": {},
   "cell_type": "markdown",
   "id": "9f3f67c0-5f0b-4788-8aff-f0c8149725d6",
   "metadata": {},
   "source": [
    "## Homework 3\n",
    "\n",
    "First 2 Tasks are about Conditional Logic from last lesson. You can do them as latest."
   ]
  },
  {
   "attachments": {},
   "cell_type": "markdown",
   "id": "83ef0d51-4ea5-4391-96da-4bf78333e90e",
   "metadata": {},
   "source": [
    "### Task 1\n",
    "\n",
    "- Fix the Exercise 3 from last lesson so that it works correctly if the hour input is 1. For example, if the hour is bigger than 22 or smaller than 7, the program should consider it to be late and so young users should sleep and older users still can watch a movie. \n",
    "\n",
    "```python\n",
    "age = int(input('Enter your age:\\n'))\n",
    "\n",
    "hour = int(input('What is the hour? (0-24)\\n'))\n",
    "\n",
    "is_late = hour >= 22\n",
    "\n",
    "is_too_young = age <= 12\n",
    "\n",
    "if is_late:\n",
    "    if is_too_young:\n",
    "        print('You should be sleeping ...')\n",
    "    else:\n",
    "        print('Want to watch a movie?')\n",
    "else:\n",
    "    print('Go for a walk!')\n",
    "```"
   ]
  },
  {
   "cell_type": "code",
   "execution_count": null,
   "id": "a45554c3-6cbd-4dd3-99d5-f0e9165218da",
   "metadata": {},
   "outputs": [],
   "source": []
  },
  {
   "attachments": {},
   "cell_type": "markdown",
   "id": "9c9648a1-477e-43ec-aa4d-3e8659cc26a4",
   "metadata": {},
   "source": [
    "### Task 2\n",
    "- Reimplement the Exercise 3 from last lesson so that it doesn’t contain nested conditions, e.g. there is no if conditional inside another if conditional. It’s possible to do using if-elif-else construction and logical operators: or, and, not\n",
    "\n",
    "```python\n",
    "age = int(input('Enter your age:\\n'))\n",
    "\n",
    "hour = int(input('What is the hour? (0-24)\\n'))\n",
    "\n",
    "is_late = hour >= 22\n",
    "\n",
    "is_too_young = age <= 12\n",
    "\n",
    "if is_late:\n",
    "    if is_too_young:\n",
    "        print('You should be sleeping ...')\n",
    "    else:\n",
    "        print('Want to watch a movie?')\n",
    "else:\n",
    "    print('Go for a walk!')\n",
    "```"
   ]
  },
  {
   "cell_type": "code",
   "execution_count": null,
   "id": "5aee1d51-5a68-4926-aa6e-9dad6f513778",
   "metadata": {},
   "outputs": [],
   "source": []
  },
  {
   "attachments": {},
   "cell_type": "markdown",
   "id": "90af77f6-da81-4c45-94e6-af3d2240e30c",
   "metadata": {},
   "source": [
    "### Task 3\n",
    "Write a program which reads integer numbers from user’s input one by one and does the following: If the number is less than 10 - skip that number and read a new one If the number is bigger, than 100 - finish the program Otherwise - print the number in a new line and read a new number.\n",
    "\n",
    "\n",
    "\n",
    "Example:\n",
    "\n",
    "- Input: 12 4 2 58 112\n",
    "- Output: 12 58\n",
    "\n",
    "*Hint: use while*"
   ]
  },
  {
   "cell_type": "code",
   "execution_count": 4,
   "id": "ef3c2bfe-69c4-412b-94ae-40f24039aa23",
   "metadata": {},
   "outputs": [
    {
     "name": "stdout",
     "output_type": "stream",
     "text": [
      "12\n",
      "58\n"
     ]
    }
   ],
   "source": [
    "number = int(input(\"Enter a number: \"))\n",
    "while number <= 100:\n",
    "    if number >= 10:\n",
    "        print(number)\n",
    "    number = int(input(\"Enter a number: \"))\n",
    "\n"
   ]
  },
  {
   "attachments": {},
   "cell_type": "markdown",
   "id": "7ebd2944-cffe-40a2-9722-4ae660c96fbb",
   "metadata": {},
   "source": [
    "### Task 4\n",
    "Write a program which reads integer numbers from user’s input one by one until the sum of the given numbers is not 0. When the sum of the numbers is 0, program should print all the given numbers sorted and finish\n",
    "\n",
    "\n",
    "Example:\n",
    "\n",
    "- Input: 1 -3 5 -6 -10 13\n",
    "- Output: -10 -6 -3 1 5 13\n",
    "\n",
    "*Hint: use while*"
   ]
  },
  {
   "cell_type": "code",
   "execution_count": 9,
   "id": "06fa90d3-daf5-4699-b2ef-514d9ac9cce0",
   "metadata": {},
   "outputs": [
    {
     "name": "stdout",
     "output_type": "stream",
     "text": [
      "[-1, 1]\n"
     ]
    }
   ],
   "source": [
    "numbers = []\n",
    "sum_of_numbers = 0\n",
    "\n",
    "n = int(input(\"Enter a number: \"))\n",
    "numbers.append(n)\n",
    "sum_of_numbers += n\n",
    "\n",
    "while sum_of_numbers != 0:\n",
    "    n = int(input(\"Enter a number: \"))\n",
    "    numbers.append(n)\n",
    "    sum_of_numbers += n\n",
    "\n",
    "    if sum_of_numbers == 0:\n",
    "        numbers.sort()\n",
    "        print(numbers)"
   ]
  },
  {
   "attachments": {},
   "cell_type": "markdown",
   "id": "afce873b-d971-4dee-ac69-1541dfb59390",
   "metadata": {},
   "source": [
    "### Task 5\n",
    "If we list all the natural numbers below 10 which are multiples of 3 or 5, we get 3, 5, 6 and 9. The sum of these multiples is 23. Write a program which finds the sum of all the multiples of 3 or 5 below 1000.\n",
    "\n",
    "*Hint: use for loop*"
   ]
  },
  {
   "cell_type": "code",
   "execution_count": 11,
   "id": "ca055b0b-10fa-4f11-96c9-994d9918af7a",
   "metadata": {},
   "outputs": [
    {
     "name": "stdout",
     "output_type": "stream",
     "text": [
      "The sum of all the multiples of 3 or 5 below 1000 is: 233168\n"
     ]
    }
   ],
   "source": [
    "sum = 0\n",
    "for n in range(1, 1000):\n",
    "    if n % 3 == 0 or n % 5 == 0:\n",
    "        sum += n\n",
    "\n",
    "print(\"The sum of all the multiples of 3 or 5 below 1000 is:\", sum)\n"
   ]
  },
  {
   "attachments": {},
   "cell_type": "markdown",
   "id": "bf78ef47-7558-4b58-a0d7-2f93d69dfda7",
   "metadata": {},
   "source": [
    "### Task 6\n",
    "Write a Python program which iterates the integers from 1 to 50. For multiples of three print \"Fizz\" instead of the number and for the multiples of five print \"Buzz\". For numbers which are multiples of both three and five print \"FizzBuzz\".\n",
    "*Hint: use for loop, range, if and continue"
   ]
  },
  {
   "cell_type": "code",
   "execution_count": 12,
   "id": "0ab66358-a4ac-4366-b208-d88fc3fb665c",
   "metadata": {},
   "outputs": [
    {
     "name": "stdout",
     "output_type": "stream",
     "text": [
      "1\n",
      "2\n",
      "FizzBuzz\n",
      "4\n",
      "Buzz\n",
      "FizzBuzz\n",
      "7\n",
      "8\n",
      "FizzBuzz\n",
      "Buzz\n",
      "11\n",
      "FizzBuzz\n",
      "13\n",
      "14\n",
      "FizzBuzz\n",
      "16\n",
      "17\n",
      "FizzBuzz\n",
      "19\n",
      "Buzz\n",
      "FizzBuzz\n",
      "22\n",
      "23\n",
      "FizzBuzz\n",
      "Buzz\n",
      "26\n",
      "FizzBuzz\n",
      "28\n",
      "29\n",
      "FizzBuzz\n",
      "31\n",
      "32\n",
      "FizzBuzz\n",
      "34\n",
      "Buzz\n",
      "FizzBuzz\n",
      "37\n",
      "38\n",
      "FizzBuzz\n",
      "Buzz\n",
      "41\n",
      "FizzBuzz\n",
      "43\n",
      "44\n",
      "FizzBuzz\n",
      "46\n",
      "47\n",
      "FizzBuzz\n",
      "49\n",
      "Buzz\n"
     ]
    }
   ],
   "source": [
    "for n in range(1, 51):\n",
    "    if n % 3 == 0 and i % 5 == 0:\n",
    "        print(\"FizzBuzz\")\n",
    "        continue\n",
    "    elif n % 3 == 0:\n",
    "        print(\"Fizz\")\n",
    "        continue\n",
    "    elif n % 5 == 0:\n",
    "        print(\"Buzz\")\n",
    "        continue\n",
    "    print(n)"
   ]
  },
  {
   "attachments": {},
   "cell_type": "markdown",
   "id": "8d9ec810-321c-4eb1-befa-41b69e84c1cc",
   "metadata": {},
   "source": [
    "### Task 7\n",
    "Write a program which asks user for a comma-separated sequence of numbers (see hint section to understand, how to create a list out of it) and prints for each element of that sequence sum of the previous element and the next element. Previous element for the first element is the last element. Next element for the last element is the first element. If user entered only one number, the program should print that number.\n",
    "\n",
    "Example:\n",
    "\n",
    "Input: 1,3,5,6,10\n",
    "\n",
    "Output: 13 6 9 15 7\n",
    "\n",
    "*Hint:\n",
    "use for loop and if condition*\n",
    "\n",
    "How to read a list from user as input:\n",
    "```python\n",
    "list_numbers = list(eval(input('Enter a list of numbers\\n')))\n",
    "print(list_numbers)\n",
    "```"
   ]
  },
  {
   "cell_type": "code",
   "execution_count": 13,
   "id": "6d3d7896-e677-4e76-bfbf-96394f8cdb53",
   "metadata": {},
   "outputs": [
    {
     "name": "stdout",
     "output_type": "stream",
     "text": [
      "[1, 3, 5, 6, 10]\n",
      "13 6 9 15 7 "
     ]
    }
   ],
   "source": [
    "# Read a list of numbers from user input\n",
    "list_numbers = list(eval(input('Enter a list of numbers\\n')))\n",
    "print(list_numbers)\n",
    "\n",
    "# Calculate the sum of the previous and next elements for each number\n",
    "for i in range(len(list_numbers)):\n",
    "    # Get the previous and next indices, wrapping around if necessary\n",
    "    prev_index = (i - 1) % len(list_numbers)\n",
    "    next_index = (i + 1) % len(list_numbers)\n",
    "    \n",
    "    # Calculate the sum of the previous and next elements\n",
    "    sum = list_numbers[prev_index] + list_numbers[next_index]\n",
    "    \n",
    "    # Print the sum for the current element\n",
    "    print(sum, end=' ')\n"
   ]
  }
 ],
 "metadata": {
  "kernelspec": {
   "display_name": "Python 3 (ipykernel)",
   "language": "python",
   "name": "python3"
  },
  "language_info": {
   "codemirror_mode": {
    "name": "ipython",
    "version": 3
   },
   "file_extension": ".py",
   "mimetype": "text/x-python",
   "name": "python",
   "nbconvert_exporter": "python",
   "pygments_lexer": "ipython3",
   "version": "3.8.9"
  }
 },
 "nbformat": 4,
 "nbformat_minor": 5
}
